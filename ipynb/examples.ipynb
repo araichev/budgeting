{
 "cells": [
  {
   "cell_type": "code",
   "execution_count": 14,
   "metadata": {},
   "outputs": [
    {
     "name": "stdout",
     "output_type": "stream",
     "text": [
      "The autoreload extension is already loaded. To reload it, use:\n",
      "  %reload_ext autoreload\n"
     ]
    }
   ],
   "source": [
    "import sys\n",
    "\n",
    "import pandas as pd\n",
    "\n",
    "sys.path.append('../')\n",
    "import mustaching as ms\n",
    "\n",
    "\n",
    "%load_ext autoreload\n",
    "%autoreload 2\n"
   ]
  },
  {
   "cell_type": "code",
   "execution_count": 15,
   "metadata": {},
   "outputs": [
    {
     "data": {
      "text/html": [
       "<div>\n",
       "<table border=\"1\" class=\"dataframe\">\n",
       "  <thead>\n",
       "    <tr style=\"text-align: right;\">\n",
       "      <th></th>\n",
       "      <th>date</th>\n",
       "      <th>amount</th>\n",
       "      <th>description</th>\n",
       "      <th>comment</th>\n",
       "      <th>category</th>\n",
       "    </tr>\n",
       "  </thead>\n",
       "  <tbody>\n",
       "    <tr>\n",
       "      <th>0</th>\n",
       "      <td>2017-01-01 00:00:00</td>\n",
       "      <td>82</td>\n",
       "      <td>0x1f7bd</td>\n",
       "      <td>0x79dea74a21</td>\n",
       "      <td>reiki</td>\n",
       "    </tr>\n",
       "    <tr>\n",
       "      <th>1</th>\n",
       "      <td>2017-01-01 12:00:00</td>\n",
       "      <td>-36</td>\n",
       "      <td>0x16bac</td>\n",
       "      <td>0xeebe6de8bc</td>\n",
       "      <td>housing</td>\n",
       "    </tr>\n",
       "    <tr>\n",
       "      <th>2</th>\n",
       "      <td>2017-01-02 00:00:00</td>\n",
       "      <td>54</td>\n",
       "      <td>0x41bba</td>\n",
       "      <td>0xd0a2faab9</td>\n",
       "      <td>yoga</td>\n",
       "    </tr>\n",
       "    <tr>\n",
       "      <th>3</th>\n",
       "      <td>2017-01-02 12:00:00</td>\n",
       "      <td>-68</td>\n",
       "      <td>0xd9520</td>\n",
       "      <td>0xdf510a92a0</td>\n",
       "      <td>transport</td>\n",
       "    </tr>\n",
       "    <tr>\n",
       "      <th>4</th>\n",
       "      <td>2017-01-03 00:00:00</td>\n",
       "      <td>-86</td>\n",
       "      <td>0x71eac</td>\n",
       "      <td>0xe1ab2376e</td>\n",
       "      <td>housing</td>\n",
       "    </tr>\n",
       "  </tbody>\n",
       "</table>\n",
       "</div>"
      ],
      "text/plain": [
       "                 date  amount description       comment   category\n",
       "0 2017-01-01 00:00:00      82     0x1f7bd  0x79dea74a21      reiki\n",
       "1 2017-01-01 12:00:00     -36     0x16bac  0xeebe6de8bc    housing\n",
       "2 2017-01-02 00:00:00      54     0x41bba   0xd0a2faab9       yoga\n",
       "3 2017-01-02 12:00:00     -68     0xd9520  0xdf510a92a0  transport\n",
       "4 2017-01-03 00:00:00     -86     0x71eac   0xe1ab2376e    housing"
      ]
     },
     "execution_count": 15,
     "metadata": {},
     "output_type": "execute_result"
    }
   ],
   "source": [
    "# Load transactions.\n",
    "transactions = ms.build_sample_transactions('2017-01-01', '2017-12-31')\n",
    "\n",
    "# Alternatively, upload your own transactions as say 'my_transactions.csv' \n",
    "#transactions = read_transactions('my_transactions.csv')\n",
    "\n",
    "transactions.head()"
   ]
  },
  {
   "cell_type": "code",
   "execution_count": 16,
   "metadata": {},
   "outputs": [
    {
     "name": "stdout",
     "output_type": "stream",
     "text": [
      "        date  credit  debit  balance      category  period_savings_rate  \\\n",
      "0 2017-01-01       0   3402     1305          food                 0.00   \n",
      "1 2017-01-01       0   3578     1305    healthcare                 0.00   \n",
      "2 2017-01-01       0   3268     1305       housing                 0.00   \n",
      "3 2017-01-01    6629      0     1305         reiki                 0.02   \n",
      "4 2017-01-01       0   3906     1305  soil testing                 0.00   \n",
      "5 2017-01-01    5553      0     1305      thieving                 0.02   \n",
      "6 2017-01-01       0   3153     1305     transport                 0.00   \n",
      "7 2017-01-01    6430      0     1305          yoga                 0.02   \n",
      "\n",
      "   period_spending_rate  weekly_avg  daily_avg  \n",
      "0                  0.18       65.24       9.32  \n",
      "1                  0.19       68.62       9.80  \n",
      "2                  0.18       62.67       8.95  \n",
      "3                  0.00      127.13      18.16  \n",
      "4                  0.21       74.91      10.70  \n",
      "5                  0.00      106.50      15.21  \n",
      "6                  0.17       60.47       8.64  \n",
      "7                  0.00      123.32      17.62  \n"
     ]
    },
    {
     "data": {
      "text/html": [
       "<iframe style=\"border:0;outline:none;overflow:hidden\" srcdoc=\"&lt;!DOCTYPE html&gt; &lt;html lang=&quot;en&quot;&gt; &lt;head&gt; &lt;meta charset=&quot;utf-8&quot; /&gt; &lt;link href=&quot;https://www.highcharts.com/highslide/highslide.css&quot; rel=&quot;stylesheet&quot; /&gt; &lt;script type=&quot;text/javascript&quot; src=&quot;https://ajax.googleapis.com/ajax/libs/jquery/1.9.1/jquery.min.js&quot;&gt;&lt;/script&gt; &lt;script type=&quot;text/javascript&quot; src=&quot;https://code.highcharts.com/highcharts.js&quot;&gt;&lt;/script&gt; &lt;script type=&quot;text/javascript&quot; src=&quot;https://code.highcharts.com/highcharts-more.js&quot;&gt;&lt;/script&gt; &lt;script type=&quot;text/javascript&quot; src=&quot;https://code.highcharts.com/modules/heatmap.js&quot;&gt;&lt;/script&gt; &lt;script type=&quot;text/javascript&quot; src=&quot;https://code.highcharts.com/modules/exporting.js&quot;&gt;&lt;/script&gt; &lt;/head&gt; &lt;body style=&quot;margin:0;padding:0&quot;&gt; &lt;div id=&quot;container&quot; style=&quot;&quot;&gt;Loading....&lt;/div&gt; &lt;script&gt; $(function(){ Highcharts.setOptions({&quot;lang&quot;: {&quot;thousandsSep&quot;: &quot;,&quot;}, &quot;global&quot;: {}}); var option = {&quot;legend&quot;: {}, &quot;series&quot;: {}, &quot;loading&quot;: {}, &quot;plotOptions&quot;: {&quot;column&quot;: {&quot;pointPadding&quot;: 0, &quot;borderColor&quot;: &quot;#333333&quot;, &quot;stacking&quot;: &quot;normal&quot;, &quot;borderWidth&quot;: 1}}, &quot;tooltip&quot;: {&quot;headerFormat&quot;: &quot;&lt;b&gt;{point.key}&lt;/b&gt;&lt;table&gt;&quot;, &quot;footerFormat&quot;: &quot;\\n &lt;tr&gt;\\n &lt;td style=\\&quot;padding-right:1em\\&quot;&gt;Total&lt;/td&gt;\\n &lt;td style=\\&quot;text-align:right\\&quot;&gt;{point.total:,.0f} \\n &lt;/td&gt;\\n &lt;/tr&gt;&lt;/table&gt;\\n &quot;, &quot;useHTML&quot;: true, &quot;pointFormat&quot;: &quot;\\n &lt;tr&gt;\\n &lt;td style=\\&quot;padding-right:1em\\&quot;&gt;{series.name}\\n ({point.percentage:.1f}%)&lt;/td&gt;\\n &lt;td style=\\&quot;text-align:right\\&quot;&gt;{point.y:,.0f} \\n &lt;/td&gt;\\n &lt;/tr&gt;\\n &quot;, &quot;shared&quot;: false}, &quot;yAxis&quot;: {&quot;title&quot;: {&quot;text&quot;: &quot;Money&quot;}}, &quot;pane&quot;: {}, &quot;xAxis&quot;: {&quot;type&quot;: &quot;category&quot;, &quot;categories&quot;: [&quot;2017-01-01&quot;]}, &quot;credits&quot;: {&quot;enabled&quot;: false}, &quot;subtitle&quot;: {}, &quot;chart&quot;: {&quot;renderTo&quot;: &quot;container&quot;, &quot;zoomType&quot;: &quot;xy&quot;}, &quot;labels&quot;: {}, &quot;title&quot;: {&quot;text&quot;: &quot;Account Summary&quot;}, &quot;navigation&quot;: {}, &quot;colors&quot;: {}, &quot;drilldown&quot;: {}, &quot;exporting&quot;: {}}; var data = [{&quot;data&quot;: [6629], &quot;name&quot;: &quot;Credit reiki&quot;, &quot;stack&quot;: &quot;credit&quot;, &quot;type&quot;: &quot;column&quot;, &quot;color&quot;: &quot;rgb(67,162,202)&quot;}, {&quot;data&quot;: [6430], &quot;name&quot;: &quot;Credit yoga&quot;, &quot;stack&quot;: &quot;credit&quot;, &quot;type&quot;: &quot;column&quot;, &quot;color&quot;: &quot;rgb(168,221,181)&quot;}, {&quot;data&quot;: [5553], &quot;name&quot;: &quot;Credit thieving&quot;, &quot;stack&quot;: &quot;credit&quot;, &quot;type&quot;: &quot;column&quot;, &quot;color&quot;: &quot;rgb(224,243,219)&quot;}, {&quot;data&quot;: [3906], &quot;name&quot;: &quot;Debit soil testing&quot;, &quot;stack&quot;: &quot;debit&quot;, &quot;type&quot;: &quot;column&quot;, &quot;color&quot;: &quot;rgb(179,0,0)&quot;}, {&quot;data&quot;: [3578], &quot;name&quot;: &quot;Debit healthcare&quot;, &quot;stack&quot;: &quot;debit&quot;, &quot;type&quot;: &quot;column&quot;, &quot;color&quot;: &quot;rgb(227,74,51)&quot;}, {&quot;data&quot;: [3402], &quot;name&quot;: &quot;Debit food&quot;, &quot;stack&quot;: &quot;debit&quot;, &quot;type&quot;: &quot;column&quot;, &quot;color&quot;: &quot;rgb(252,141,89)&quot;}, {&quot;data&quot;: [3268], &quot;name&quot;: &quot;Debit housing&quot;, &quot;stack&quot;: &quot;debit&quot;, &quot;type&quot;: &quot;column&quot;, &quot;color&quot;: &quot;rgb(253,204,138)&quot;}, {&quot;data&quot;: [3153], &quot;name&quot;: &quot;Debit transport&quot;, &quot;stack&quot;: &quot;debit&quot;, &quot;type&quot;: &quot;column&quot;, &quot;color&quot;: &quot;rgb(254,240,217)&quot;}, {&quot;data&quot;: [1305], &quot;type&quot;: &quot;line&quot;, &quot;name&quot;: &quot;Balance&quot;, &quot;color&quot;: &quot;#555&quot;}]; option.series = data; var chart = new Highcharts.Chart(option); }); &lt;/script&gt; &lt;/body&gt; &lt;/html&gt;\" height=520 width=820></iframe>"
      ],
      "text/plain": [
       "<highcharts.highcharts.highcharts.Highchart at 0x7f89e6c335c0>"
      ]
     },
     "execution_count": 16,
     "metadata": {},
     "output_type": "execute_result"
    }
   ],
   "source": [
    "# Summarize over entire period and by category\n",
    "summary = ms.summarize(transactions, decimals=2, by_category=True)\n",
    "print(summary)\n",
    "plot(summary)\n"
   ]
  },
  {
   "cell_type": "code",
   "execution_count": 17,
   "metadata": {},
   "outputs": [
    {
     "name": "stdout",
     "output_type": "stream",
     "text": [
      "        date  credit  debit  balance      category  period_savings_rate  \\\n",
      "0 2017-01-01       0    159      373          food                 0.00   \n",
      "1 2017-01-01       0    260      373    healthcare                 0.00   \n",
      "2 2017-01-01       0    474      373       housing                 0.00   \n",
      "3 2017-01-01     325      0      373         reiki                 0.04   \n",
      "4 2017-01-01       0    344      373  soil testing                 0.00   \n",
      "5 2017-01-01     522      0      373      thieving                 0.07   \n",
      "6 2017-01-01       0    113      373     transport                 0.00   \n",
      "7 2017-01-01     876      0      373          yoga                 0.11   \n",
      "8 2017-02-01       0    382      373          food                 0.00   \n",
      "9 2017-02-01       0    305      373    healthcare                 0.00   \n",
      "\n",
      "   period_spending_rate  \n",
      "0                  0.09  \n",
      "1                  0.15  \n",
      "2                  0.28  \n",
      "3                  0.00  \n",
      "4                  0.20  \n",
      "5                  0.00  \n",
      "6                  0.07  \n",
      "7                  0.00  \n",
      "8                  0.27  \n",
      "9                  0.22  \n"
     ]
    },
    {
     "data": {
      "text/html": [
       "<iframe style=\"border:0;outline:none;overflow:hidden\" srcdoc=\"&lt;!DOCTYPE html&gt; &lt;html lang=&quot;en&quot;&gt; &lt;head&gt; &lt;meta charset=&quot;utf-8&quot; /&gt; &lt;link href=&quot;https://www.highcharts.com/highslide/highslide.css&quot; rel=&quot;stylesheet&quot; /&gt; &lt;script type=&quot;text/javascript&quot; src=&quot;https://ajax.googleapis.com/ajax/libs/jquery/1.9.1/jquery.min.js&quot;&gt;&lt;/script&gt; &lt;script type=&quot;text/javascript&quot; src=&quot;https://code.highcharts.com/highcharts.js&quot;&gt;&lt;/script&gt; &lt;script type=&quot;text/javascript&quot; src=&quot;https://code.highcharts.com/highcharts-more.js&quot;&gt;&lt;/script&gt; &lt;script type=&quot;text/javascript&quot; src=&quot;https://code.highcharts.com/modules/heatmap.js&quot;&gt;&lt;/script&gt; &lt;script type=&quot;text/javascript&quot; src=&quot;https://code.highcharts.com/modules/exporting.js&quot;&gt;&lt;/script&gt; &lt;/head&gt; &lt;body style=&quot;margin:0;padding:0&quot;&gt; &lt;div id=&quot;container&quot; style=&quot;&quot;&gt;Loading....&lt;/div&gt; &lt;script&gt; $(function(){ Highcharts.setOptions({&quot;lang&quot;: {&quot;thousandsSep&quot;: &quot;,&quot;}, &quot;global&quot;: {}}); var option = {&quot;legend&quot;: {}, &quot;series&quot;: {}, &quot;loading&quot;: {}, &quot;plotOptions&quot;: {&quot;column&quot;: {&quot;pointPadding&quot;: 0, &quot;borderColor&quot;: &quot;#333333&quot;, &quot;stacking&quot;: &quot;normal&quot;, &quot;borderWidth&quot;: 1}}, &quot;tooltip&quot;: {&quot;headerFormat&quot;: &quot;&lt;b&gt;{point.key}&lt;/b&gt;&lt;table&gt;&quot;, &quot;footerFormat&quot;: &quot;\\n &lt;tr&gt;\\n &lt;td style=\\&quot;padding-right:1em\\&quot;&gt;Total&lt;/td&gt;\\n &lt;td style=\\&quot;text-align:right\\&quot;&gt;{point.total:,.0f} \\n &lt;/td&gt;\\n &lt;/tr&gt;&lt;/table&gt;\\n &quot;, &quot;useHTML&quot;: true, &quot;pointFormat&quot;: &quot;\\n &lt;tr&gt;\\n &lt;td style=\\&quot;padding-right:1em\\&quot;&gt;{series.name}\\n ({point.percentage:.1f}%)&lt;/td&gt;\\n &lt;td style=\\&quot;text-align:right\\&quot;&gt;{point.y:,.0f} \\n &lt;/td&gt;\\n &lt;/tr&gt;\\n &quot;, &quot;shared&quot;: false}, &quot;yAxis&quot;: {&quot;title&quot;: {&quot;text&quot;: &quot;Money&quot;}}, &quot;pane&quot;: {}, &quot;xAxis&quot;: {&quot;type&quot;: &quot;category&quot;, &quot;categories&quot;: [&quot;2017-01-01&quot;, &quot;2017-02-01&quot;, &quot;2017-03-01&quot;, &quot;2017-04-01&quot;, &quot;2017-05-01&quot;, &quot;2017-06-01&quot;, &quot;2017-07-01&quot;, &quot;2017-08-01&quot;, &quot;2017-09-01&quot;, &quot;2017-10-01&quot;, &quot;2017-11-01&quot;, &quot;2017-12-01&quot;]}, &quot;credits&quot;: {&quot;enabled&quot;: false}, &quot;subtitle&quot;: {}, &quot;chart&quot;: {&quot;renderTo&quot;: &quot;container&quot;, &quot;zoomType&quot;: &quot;xy&quot;}, &quot;labels&quot;: {}, &quot;title&quot;: {&quot;text&quot;: &quot;Account Summary&quot;}, &quot;navigation&quot;: {}, &quot;colors&quot;: {}, &quot;drilldown&quot;: {}, &quot;exporting&quot;: {}}; var data = [{&quot;data&quot;: [325, 369, 675, 463, 655, 593, 1112, 522, 429, 553, 591, 342], &quot;name&quot;: &quot;Credit reiki&quot;, &quot;stack&quot;: &quot;credit&quot;, &quot;type&quot;: &quot;column&quot;, &quot;color&quot;: &quot;rgb(67,162,202)&quot;}, {&quot;data&quot;: [876, 693, 623, 263, 496, 540, 458, 308, 244, 658, 806, 465], &quot;name&quot;: &quot;Credit yoga&quot;, &quot;stack&quot;: &quot;credit&quot;, &quot;type&quot;: &quot;column&quot;, &quot;color&quot;: &quot;rgb(168,221,181)&quot;}, {&quot;data&quot;: [522, 351, 234, 614, 737, 459, 146, 689, 604, 449, 374, 374], &quot;name&quot;: &quot;Credit thieving&quot;, &quot;stack&quot;: &quot;credit&quot;, &quot;type&quot;: &quot;column&quot;, &quot;color&quot;: &quot;rgb(224,243,219)&quot;}, {&quot;data&quot;: [344, 265, 372, 428, 297, 384, 277, 178, 380, 194, 92, 695], &quot;name&quot;: &quot;Debit soil testing&quot;, &quot;stack&quot;: &quot;debit&quot;, &quot;type&quot;: &quot;column&quot;, &quot;color&quot;: &quot;rgb(179,0,0)&quot;}, {&quot;data&quot;: [260, 305, 294, 318, 81, 223, 533, 421, 343, 137, 384, 279], &quot;name&quot;: &quot;Debit healthcare&quot;, &quot;stack&quot;: &quot;debit&quot;, &quot;type&quot;: &quot;column&quot;, &quot;color&quot;: &quot;rgb(227,74,51)&quot;}, {&quot;data&quot;: [159, 382, 298, 311, 356, 402, 321, 179, 49, 494, 275, 176], &quot;name&quot;: &quot;Debit food&quot;, &quot;stack&quot;: &quot;debit&quot;, &quot;type&quot;: &quot;column&quot;, &quot;color&quot;: &quot;rgb(252,141,89)&quot;}, {&quot;data&quot;: [474, 147, 281, 231, 139, 325, 24, 389, 479, 261, 213, 305], &quot;name&quot;: &quot;Debit housing&quot;, &quot;stack&quot;: &quot;debit&quot;, &quot;type&quot;: &quot;column&quot;, &quot;color&quot;: &quot;rgb(253,204,138)&quot;}, {&quot;data&quot;: [113, 314, 356, 336, 362, 140, 499, 62, 276, 211, 140, 344], &quot;name&quot;: &quot;Debit transport&quot;, &quot;stack&quot;: &quot;debit&quot;, &quot;type&quot;: &quot;column&quot;, &quot;color&quot;: &quot;rgb(254,240,217)&quot;}, {&quot;data&quot;: [373, 373, 304, 20, 673, 791, 853, 1143, 893, 1256, 1923, 1305], &quot;type&quot;: &quot;line&quot;, &quot;name&quot;: &quot;Balance&quot;, &quot;color&quot;: &quot;#555&quot;}]; option.series = data; var chart = new Highcharts.Chart(option); }); &lt;/script&gt; &lt;/body&gt; &lt;/html&gt;\" height=520 width=820></iframe>"
      ],
      "text/plain": [
       "<highcharts.highcharts.highcharts.Highchart at 0x7f89e6c1eda0>"
      ]
     },
     "execution_count": 17,
     "metadata": {},
     "output_type": "execute_result"
    }
   ],
   "source": [
    "# Summarize again by month start and category\n",
    "summary = ms.summarize(transactions, freq='MS', by_category=True, decimals=2)\n",
    "print(summary.head(10))\n",
    "plot(summary)\n"
   ]
  },
  {
   "cell_type": "code",
   "execution_count": null,
   "metadata": {
    "collapsed": true
   },
   "outputs": [],
   "source": []
  }
 ],
 "metadata": {
  "kernelspec": {
   "display_name": "Python 3",
   "language": "python",
   "name": "python3"
  },
  "language_info": {
   "codemirror_mode": {
    "name": "ipython",
    "version": 3
   },
   "file_extension": ".py",
   "mimetype": "text/x-python",
   "name": "python",
   "nbconvert_exporter": "python",
   "pygments_lexer": "ipython3",
   "version": "3.5.2"
  }
 },
 "nbformat": 4,
 "nbformat_minor": 1
}
