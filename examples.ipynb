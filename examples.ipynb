{
 "cells": [
  {
   "cell_type": "code",
   "execution_count": 2,
   "metadata": {
    "collapsed": false
   },
   "outputs": [],
   "source": [
    "import budgeting as bg\n",
    "\n",
    "%load_ext autoreload\n",
    "%autoreload 2\n",
    "\n"
   ]
  },
  {
   "cell_type": "code",
   "execution_count": 3,
   "metadata": {
    "collapsed": false
   },
   "outputs": [
    {
     "data": {
      "text/html": [
       "<div>\n",
       "<table border=\"1\" class=\"dataframe\">\n",
       "  <thead>\n",
       "    <tr style=\"text-align: right;\">\n",
       "      <th></th>\n",
       "      <th>date</th>\n",
       "      <th>amount</th>\n",
       "      <th>description</th>\n",
       "      <th>category</th>\n",
       "      <th>comment</th>\n",
       "    </tr>\n",
       "  </thead>\n",
       "  <tbody>\n",
       "    <tr>\n",
       "      <th>0</th>\n",
       "      <td>2016-01-06</td>\n",
       "      <td>-96</td>\n",
       "      <td>0x409ed</td>\n",
       "      <td>housing</td>\n",
       "      <td>0x4f2ecc661f</td>\n",
       "    </tr>\n",
       "    <tr>\n",
       "      <th>1</th>\n",
       "      <td>2016-01-06</td>\n",
       "      <td>-24</td>\n",
       "      <td>0x87f90</td>\n",
       "      <td>healthcare</td>\n",
       "      <td>0xb00fd93788</td>\n",
       "    </tr>\n",
       "    <tr>\n",
       "      <th>2</th>\n",
       "      <td>2016-01-07</td>\n",
       "      <td>-99</td>\n",
       "      <td>0x64683</td>\n",
       "      <td>healthcare</td>\n",
       "      <td>0x673cd58472</td>\n",
       "    </tr>\n",
       "    <tr>\n",
       "      <th>3</th>\n",
       "      <td>2016-01-07</td>\n",
       "      <td>-85</td>\n",
       "      <td>0x6d067</td>\n",
       "      <td>transport</td>\n",
       "      <td>0x88ef73b6e5</td>\n",
       "    </tr>\n",
       "    <tr>\n",
       "      <th>4</th>\n",
       "      <td>2016-01-08</td>\n",
       "      <td>-15</td>\n",
       "      <td>0x5c88c</td>\n",
       "      <td>healthcare</td>\n",
       "      <td>0x318f88a81b</td>\n",
       "    </tr>\n",
       "  </tbody>\n",
       "</table>\n",
       "</div>"
      ],
      "text/plain": [
       "        date  amount description    category       comment\n",
       "0 2016-01-06     -96     0x409ed     housing  0x4f2ecc661f\n",
       "1 2016-01-06     -24     0x87f90  healthcare  0xb00fd93788\n",
       "2 2016-01-07     -99     0x64683  healthcare  0x673cd58472\n",
       "3 2016-01-07     -85     0x6d067   transport  0x88ef73b6e5\n",
       "4 2016-01-08     -15     0x5c88c  healthcare  0x318f88a81b"
      ]
     },
     "execution_count": 3,
     "metadata": {},
     "output_type": "execute_result"
    }
   ],
   "source": [
    "# Read in sample transactions or \n",
    "# upload your own transactions as say 'my_transactions.csv' \n",
    "# and set ``p = 'my_transactions.csv'``\n",
    "\n",
    "p = 'sample_transactions.csv'\n",
    "transactions = bg.read_transactions(p)\n",
    "transactions.head()"
   ]
  },
  {
   "cell_type": "code",
   "execution_count": 4,
   "metadata": {
    "collapsed": false
   },
   "outputs": [
    {
     "name": "stdout",
     "output_type": "stream",
     "text": [
      "        date  credit  debit  balance  savings_rate  period_budget\n",
      "0 2016-01-01    1274   1727     -453         -0.36            NaN\n",
      "1 2016-02-01    1336   1468     -585         -0.10            NaN\n",
      "2 2016-03-01    1902   1261       56          0.34            NaN\n",
      "3 2016-04-01    1425   1462       19         -0.03            NaN\n",
      "4 2016-05-01    1413   1336       96          0.05            NaN\n"
     ]
    },
    {
     "data": {
      "text/html": [
       "<iframe style=\"border:0;outline:none;overflow:hidden\" srcdoc=\"&lt;!DOCTYPE html&gt; &lt;html lang=&quot;en&quot;&gt; &lt;head&gt; &lt;meta charset=&quot;utf-8&quot; /&gt; &lt;link href=&quot;https://www.highcharts.com/highslide/highslide.css&quot; rel=&quot;stylesheet&quot; /&gt; &lt;script type=&quot;text/javascript&quot; src=&quot;https://ajax.googleapis.com/ajax/libs/jquery/1.9.1/jquery.min.js&quot;&gt;&lt;/script&gt; &lt;script type=&quot;text/javascript&quot; src=&quot;https://code.highcharts.com/highcharts.js&quot;&gt;&lt;/script&gt; &lt;script type=&quot;text/javascript&quot; src=&quot;https://code.highcharts.com/highcharts-more.js&quot;&gt;&lt;/script&gt; &lt;script type=&quot;text/javascript&quot; src=&quot;https://code.highcharts.com/modules/heatmap.js&quot;&gt;&lt;/script&gt; &lt;script type=&quot;text/javascript&quot; src=&quot;https://code.highcharts.com/modules/exporting.js&quot;&gt;&lt;/script&gt; &lt;/head&gt; &lt;body style=&quot;margin:0;padding:0&quot;&gt; &lt;div id=&quot;container&quot; style=&quot;&quot;&gt;Loading....&lt;/div&gt; &lt;script&gt; $(function(){ Highcharts.setOptions({&quot;global&quot;: {}, &quot;lang&quot;: {&quot;thousandsSep&quot;: &quot;,&quot;}}); var option = {&quot;exporting&quot;: {}, &quot;xAxis&quot;: {&quot;type&quot;: &quot;category&quot;, &quot;categories&quot;: [&quot;2016-01-01&quot;, &quot;2016-02-01&quot;, &quot;2016-03-01&quot;, &quot;2016-04-01&quot;, &quot;2016-05-01&quot;, &quot;2016-06-01&quot;, &quot;2016-07-01&quot;, &quot;2016-08-01&quot;, &quot;2016-09-01&quot;, &quot;2016-10-01&quot;, &quot;2016-11-01&quot;, &quot;2016-12-01&quot;]}, &quot;labels&quot;: {}, &quot;yAxis&quot;: {&quot;title&quot;: {&quot;text&quot;: &quot;Money (NZD)&quot;}}, &quot;pane&quot;: {}, &quot;title&quot;: {&quot;text&quot;: &quot;Account Summary&quot;}, &quot;chart&quot;: {&quot;renderTo&quot;: &quot;container&quot;}, &quot;series&quot;: {}, &quot;plotOptions&quot;: {&quot;column&quot;: {&quot;pointPadding&quot;: 0, &quot;borderColor&quot;: &quot;#333333&quot;, &quot;borderWidth&quot;: 1}}, &quot;colors&quot;: {}, &quot;navigation&quot;: {}, &quot;drilldown&quot;: {}, &quot;loading&quot;: {}, &quot;credits&quot;: {&quot;enabled&quot;: false}, &quot;subtitle&quot;: {}, &quot;tooltip&quot;: {&quot;footerFormat&quot;: &quot;&lt;/table&gt;&quot;, &quot;shared&quot;: true, &quot;useHTML&quot;: true, &quot;pointFormat&quot;: &quot;\\n &lt;tr&gt;\\n &lt;td style=\\&quot;padding-right:1em\\&quot;&gt;{series.name}&lt;/td&gt;\\n &lt;td style=\\&quot;text-align:right\\&quot;&gt;{point.y:,.0f} NZD\\n &lt;/td&gt;\\n &lt;/tr&gt;\\n &quot;, &quot;headerFormat&quot;: &quot;&lt;b&gt;{point.key}&lt;/b&gt;&lt;table&gt;&quot;}, &quot;legend&quot;: {}}; var data = [{&quot;data&quot;: [1274, 1336, 1902, 1425, 1413, 1686, 1976, 1348, 1926, 1924, 1508, 679], &quot;color&quot;: &quot;rgb(67,162,202)&quot;, &quot;type&quot;: &quot;column&quot;, &quot;name&quot;: &quot;Credit&quot;}, {&quot;data&quot;: [1727, 1468, 1261, 1462, 1336, 1419, 1193, 1450, 1079, 1596, 1416, 1237], &quot;name&quot;: &quot;Debit&quot;, &quot;type&quot;: &quot;column&quot;, &quot;color&quot;: &quot;rgb(227,74,51)&quot;}, {&quot;data&quot;: [-453, -585, 56, 19, 96, 363, 1146, 1044, 1891, 2219, 2311, 1753], &quot;name&quot;: &quot;Balance&quot;, &quot;type&quot;: &quot;line&quot;, &quot;color&quot;: &quot;#555&quot;}]; option.series = data; var chart = new Highcharts.Chart(option); }); &lt;/script&gt; &lt;/body&gt; &lt;/html&gt;\" height=520 width=820></iframe>"
      ],
      "text/plain": [
       "<highcharts.highcharts.highcharts.Highchart at 0x7fe7c7a37b38>"
      ]
     },
     "execution_count": 4,
     "metadata": {},
     "output_type": "execute_result"
    }
   ],
   "source": [
    "# Summarize and plot\n",
    "\n",
    "summary = bg.summarize(transactions, freq='MS', by_category=False, decimals=2)\n",
    "print(summary.head())\n",
    "bg.plot(summary, currency='NZD')\n"
   ]
  },
  {
   "cell_type": "code",
   "execution_count": 5,
   "metadata": {
    "collapsed": false
   },
   "outputs": [
    {
     "name": "stdout",
     "output_type": "stream",
     "text": [
      "        date  credit  debit  balance  savings_rate    category  period_budget\n",
      "0 2016-01-01       0    319     -453         -0.36        food         1550.0\n",
      "1 2016-01-01       0    500     -453         -0.36  healthcare         1550.0\n",
      "2 2016-01-01       0    479     -453         -0.36     housing         1550.0\n",
      "3 2016-01-01       0    221     -453         -0.36  miscellany         1550.0\n",
      "4 2016-01-01     439      0     -453         -0.36       reiki         1550.0\n"
     ]
    },
    {
     "data": {
      "text/html": [
       "<iframe style=\"border:0;outline:none;overflow:hidden\" srcdoc=\"&lt;!DOCTYPE html&gt; &lt;html lang=&quot;en&quot;&gt; &lt;head&gt; &lt;meta charset=&quot;utf-8&quot; /&gt; &lt;link href=&quot;https://www.highcharts.com/highslide/highslide.css&quot; rel=&quot;stylesheet&quot; /&gt; &lt;script type=&quot;text/javascript&quot; src=&quot;https://ajax.googleapis.com/ajax/libs/jquery/1.9.1/jquery.min.js&quot;&gt;&lt;/script&gt; &lt;script type=&quot;text/javascript&quot; src=&quot;https://code.highcharts.com/highcharts.js&quot;&gt;&lt;/script&gt; &lt;script type=&quot;text/javascript&quot; src=&quot;https://code.highcharts.com/highcharts-more.js&quot;&gt;&lt;/script&gt; &lt;script type=&quot;text/javascript&quot; src=&quot;https://code.highcharts.com/modules/heatmap.js&quot;&gt;&lt;/script&gt; &lt;script type=&quot;text/javascript&quot; src=&quot;https://code.highcharts.com/modules/exporting.js&quot;&gt;&lt;/script&gt; &lt;/head&gt; &lt;body style=&quot;margin:0;padding:0&quot;&gt; &lt;div id=&quot;container&quot; style=&quot;&quot;&gt;Loading....&lt;/div&gt; &lt;script&gt; $(function(){ Highcharts.setOptions({&quot;global&quot;: {}, &quot;lang&quot;: {&quot;thousandsSep&quot;: &quot;,&quot;}}); var option = {&quot;exporting&quot;: {}, &quot;xAxis&quot;: {&quot;type&quot;: &quot;category&quot;, &quot;categories&quot;: [&quot;2016-01-01&quot;, &quot;2016-02-01&quot;, &quot;2016-03-01&quot;, &quot;2016-04-01&quot;, &quot;2016-05-01&quot;, &quot;2016-06-01&quot;, &quot;2016-07-01&quot;, &quot;2016-08-01&quot;, &quot;2016-09-01&quot;, &quot;2016-10-01&quot;, &quot;2016-11-01&quot;, &quot;2016-12-01&quot;]}, &quot;labels&quot;: {}, &quot;yAxis&quot;: {&quot;title&quot;: {&quot;text&quot;: &quot;Money (NZD)&quot;}}, &quot;pane&quot;: {}, &quot;title&quot;: {&quot;text&quot;: &quot;Account Summary&quot;}, &quot;chart&quot;: {&quot;renderTo&quot;: &quot;container&quot;}, &quot;series&quot;: {}, &quot;plotOptions&quot;: {&quot;column&quot;: {&quot;pointPadding&quot;: 0, &quot;borderColor&quot;: &quot;#333333&quot;, &quot;stacking&quot;: &quot;normal&quot;, &quot;borderWidth&quot;: 1}}, &quot;colors&quot;: {}, &quot;navigation&quot;: {}, &quot;drilldown&quot;: {}, &quot;loading&quot;: {}, &quot;credits&quot;: {&quot;enabled&quot;: false}, &quot;subtitle&quot;: {}, &quot;tooltip&quot;: {&quot;footerFormat&quot;: &quot;\\n &lt;tr&gt;\\n &lt;td style=\\&quot;padding-right:1em\\&quot;&gt;Total&lt;/td&gt;\\n &lt;td style=\\&quot;text-align:right\\&quot;&gt;{point.total:,.0f} NZD\\n &lt;/td&gt;\\n &lt;/tr&gt;&lt;/table&gt;\\n &quot;, &quot;headerFormat&quot;: &quot;&lt;b&gt;{point.key}&lt;/b&gt;&lt;table&gt;&quot;, &quot;useHTML&quot;: true, &quot;shared&quot;: false, &quot;pointFormat&quot;: &quot;\\n &lt;tr&gt;\\n &lt;td style=\\&quot;padding-right:1em\\&quot;&gt;{series.name} \\n ({point.percentage:.1f}%)&lt;/td&gt;\\n &lt;td style=\\&quot;text-align:right\\&quot;&gt;{point.y:,.0f}NZD\\n &lt;/td&gt;\\n &lt;/tr&gt;\\n &quot;}, &quot;legend&quot;: {}}; var data = [{&quot;data&quot;: [695, 415, 1112, 542, 357, 716, 834, 495, 563, 684, 159, 187], &quot;stack&quot;: &quot;credit&quot;, &quot;name&quot;: &quot;Credit yoga&quot;, &quot;type&quot;: &quot;column&quot;, &quot;color&quot;: &quot;rgb(67,162,202)&quot;}, {&quot;data&quot;: [140, 670, 79, 505, 646, 712, 689, 400, 607, 557, 670, 316], &quot;stack&quot;: &quot;credit&quot;, &quot;name&quot;: &quot;Credit thieving&quot;, &quot;type&quot;: &quot;column&quot;, &quot;color&quot;: &quot;rgb(168,221,181)&quot;}, {&quot;data&quot;: [439, 251, 711, 378, 410, 258, 453, 453, 756, 683, 679, 176], &quot;stack&quot;: &quot;credit&quot;, &quot;name&quot;: &quot;Credit reiki&quot;, &quot;type&quot;: &quot;column&quot;, &quot;color&quot;: &quot;rgb(224,243,219)&quot;}, {&quot;data&quot;: [319, 338, 218, 344, 394, 580, 333, 316, 128, 419, 238, 320], &quot;stack&quot;: &quot;debit&quot;, &quot;name&quot;: &quot;Debit food&quot;, &quot;type&quot;: &quot;column&quot;, &quot;color&quot;: &quot;rgb(179,0,0)&quot;}, {&quot;data&quot;: [479, 212, 153, 333, 300, 243, 191, 319, 283, 364, 183, 505], &quot;stack&quot;: &quot;debit&quot;, &quot;name&quot;: &quot;Debit housing&quot;, &quot;type&quot;: &quot;column&quot;, &quot;color&quot;: &quot;rgb(227,74,51)&quot;}, {&quot;data&quot;: [221, 337, 158, 340, 198, 126, 287, 433, 425, 373, 374, 223], &quot;stack&quot;: &quot;debit&quot;, &quot;name&quot;: &quot;Debit miscellany&quot;, &quot;type&quot;: &quot;column&quot;, &quot;color&quot;: &quot;rgb(252,141,89)&quot;}, {&quot;data&quot;: [500, 342, 407, 183, 229, 226, 161, 278, 187, 277, 378, 132], &quot;stack&quot;: &quot;debit&quot;, &quot;name&quot;: &quot;Debit healthcare&quot;, &quot;type&quot;: &quot;column&quot;, &quot;color&quot;: &quot;rgb(253,204,138)&quot;}, {&quot;data&quot;: [208, 239, 325, 262, 215, 244, 221, 104, 56, 163, 243, 57], &quot;stack&quot;: &quot;debit&quot;, &quot;name&quot;: &quot;Debit transport&quot;, &quot;type&quot;: &quot;column&quot;, &quot;color&quot;: &quot;rgb(254,240,217)&quot;}, {&quot;data&quot;: [1550.0, 1450.0, 1550.0, 1500.0, 1550.0, 1500.0, 1550.0, 1550.0, 1500.0, 1550.0, 1500.0, 1550.0], &quot;stack&quot;: &quot;period_budget&quot;, &quot;name&quot;: &quot;Budget&quot;, &quot;type&quot;: &quot;column&quot;, &quot;color&quot;: &quot;rgb(255, 255, 255)&quot;}, {&quot;data&quot;: [-453.0, -585.0, 56.0, 19.0, 96.0, 363.0, 1146.0, 1044.0, 1891.0, 2219.0, 2311.0, 1753.0], &quot;name&quot;: &quot;Balance&quot;, &quot;type&quot;: &quot;line&quot;, &quot;color&quot;: &quot;#555&quot;}]; option.series = data; var chart = new Highcharts.Chart(option); }); &lt;/script&gt; &lt;/body&gt; &lt;/html&gt;\" height=520 width=820></iframe>"
      ],
      "text/plain": [
       "<highcharts.highcharts.highcharts.Highchart at 0x7fe7c79cbe48>"
      ]
     },
     "execution_count": 5,
     "metadata": {},
     "output_type": "execute_result"
    }
   ],
   "source": [
    "# Summarize again, but also by category\n",
    "\n",
    "summary = bg.summarize(transactions, freq='MS', budget_and_freq=(350, 'W'), \n",
    "  by_category=True, decimals=2)\n",
    "print(summary.head())\n",
    "bg.plot(summary, currency='NZD')\n"
   ]
  },
  {
   "cell_type": "code",
   "execution_count": null,
   "metadata": {
    "collapsed": true
   },
   "outputs": [],
   "source": []
  }
 ],
 "metadata": {
  "kernelspec": {
   "display_name": "Python 3",
   "language": "python",
   "name": "python3"
  },
  "language_info": {
   "codemirror_mode": {
    "name": "ipython",
    "version": 3
   },
   "file_extension": ".py",
   "mimetype": "text/x-python",
   "name": "python",
   "nbconvert_exporter": "python",
   "pygments_lexer": "ipython3",
   "version": "3.5.2"
  }
 },
 "nbformat": 4,
 "nbformat_minor": 1
}
